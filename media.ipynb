{
 "cells": [
  {
   "cell_type": "code",
   "execution_count": null,
   "id": "68ee50ed",
   "metadata": {},
   "outputs": [],
   "source": [
    "nota01 = float(input(\"Digite a 1ª nota:\"))\n",
    "nota02 = float(input(\"Digite a 2ª nota:\"))\n",
    "nota03 = float(input(\"Digite a 3ª nota:\"))\n",
    "nota04 = float(input(\"Digite a 4ª nota:\"))\n",
    "\n",
    "media = (nota01 + nota02 + nota03 + nota04) / 4\n",
    "\n",
    "if media >= 7.0 and media <10.0:\n",
    "    print(f\"Média: {round(media,2)} - Situação: Aprovado(a) ✅\")\n",
    "elif media >= 5.0 and media <7.0:\n",
    "    print(f\"Média: {round(media,2)} - Situação: Recuperação ⚠️\")\n",
    "elif media <5.0:\n",
    "    print(f\"Média: {round(media,2)} - Situação: reprovado(a)❌\")\n",
    "else:\n",
    "    print(f\"ATENÇÃO 🚨. Digite notas de 0 a 10 \")"
   ]
  }
 ],
 "metadata": {
  "kernelspec": {
   "display_name": "Python 3",
   "language": "python",
   "name": "python3"
  },
  "language_info": {
   "codemirror_mode": {
    "name": "ipython",
    "version": 3
   },
   "file_extension": ".py",
   "mimetype": "text/x-python",
   "name": "python",
   "nbconvert_exporter": "python",
   "pygments_lexer": "ipython3",
   "version": "3.13.2"
  }
 },
 "nbformat": 4,
 "nbformat_minor": 5
}
